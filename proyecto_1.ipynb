{
 "cells": [
  {
   "cell_type": "markdown",
   "metadata": {},
   "source": [
    "---"
   ]
  },
  {
   "cell_type": "markdown",
   "metadata": {
    "id": "E0vqbgi9ay0H"
   },
   "source": [
    "# Yandex.Music"
   ]
  },
  {
   "cell_type": "markdown",
   "metadata": {
    "id": "fhq_eyov_Zcs"
   },
   "source": [
    "# Contents <a id='back'></a>\n",
    "\n",
    "* [Introducción](#intro)\n",
    "* [Etapa 1. Descripción de los datos](#data_review)\n",
    "    * [Conclusions](#data_review_conclusions)\n",
    "* [Etapa 2. Data preprocessing](#data_preprocessing)\n",
    "    * [2.1 Estilo del encabezado](#header_style)\n",
    "    * [2.2 Valores ausentes](#missing_values)\n",
    "    * [2.3 Duplicados](#duplicates)\n",
    "    * [2.4 Conclusiones](#data_preprocessing_conclusions)\n",
    "* [Etapa 3. Prueba de hipótesis](#hypotheses)\n",
    "    * [3.1 Hipótesis 1: comparar el comportamiento del usuario en las dos ciudades](#activity)\n",
    "    * [3.2 Hipótesis 2: música al principio y al final de la semana](#week)\n",
    "    * [3.3 Hipótesis 3: preferencias de género en Springfield y Shelbyville](#genre)\n",
    "* [Conclusiones](#end)"
   ]
  },
  {
   "cell_type": "markdown",
   "metadata": {
    "id": "VUC88oWjTJw2"
   },
   "source": [
    "## Introducción <a id='intro'></a>\n",
    "Siempre que investiguemos, necesitamos formular hipótesis que después podamos probar. A veces aceptamos estas hipótesis; otras, las rechazamos. Para tomar las decisiones correctas, una empresa debe ser capaz de entender si está haciendo las suposiciones correctas.\n",
    "\n",
    "En este proyecto, compararás las preferencias musicales de las ciudades de Springfield y Shelbyville. Estudiarás datos reales de Yandex.Music para probar las hipótesis de abajo y comparar el comportamiento del usuario de esas dos ciudades.\n",
    "\n",
    "### Objetivo: \n",
    "Prueba tres hipótesis: \n",
    "1. La actividad de los usuarios difiere según el día de la semana y dependiendo de la ciudad. \n",
    "2. Los lunes por la mañana, los habitantes de Springfield y Shelbyville escuchan diferentes géneros. Lo mismo ocurre con los viernes por la noche. \n",
    "3. Los oyentes de Springfield y Shelbyville tienen preferencias distintas. En Springfield prefieren el pop mientras que en Shelbyville hay más aficionados al rap.\n",
    "\n",
    "### Etapas \n",
    "Los datos del comportamiento del usuario se almacenan en el archivo `/datasets/music_project_en.csv`. No hay ninguna información sobre la calidad de los datos así que necesitarás examinarlos antes de probar las hipótesis. \n",
    "\n",
    "Primero, evaluarás la calidad de los datos y verás si los problemas son significativos. Entonces, durante el preprocesamiento de datos, tomarás en cuenta los problemas más críticos.\n",
    " \n",
    "Tu proyecto consistirá en tres etapas:\n",
    " 1. Descripción de los datos\n",
    " 2. Preprocesamiento de datos\n",
    " 3. Prueba de hipótesis\n",
    " \n"
   ]
  },
  {
   "cell_type": "markdown",
   "metadata": {
    "id": "Ml1hmfXC_Zcs"
   },
   "source": [
    "## Etapa 1. Descripción de los datos <a id='data_review'></a>\n",
    "\n"
   ]
  },
  {
   "cell_type": "code",
   "execution_count": 1,
   "metadata": {
    "id": "AXN7PHPN_Zcs"
   },
   "outputs": [],
   "source": [
    "import pandas as pd\n"
   ]
  },
  {
   "cell_type": "code",
   "execution_count": 2,
   "metadata": {
    "id": "fFVu7vqh_Zct"
   },
   "outputs": [
    {
     "data": {
      "text/html": [
       "<div>\n",
       "<style scoped>\n",
       "    .dataframe tbody tr th:only-of-type {\n",
       "        vertical-align: middle;\n",
       "    }\n",
       "\n",
       "    .dataframe tbody tr th {\n",
       "        vertical-align: top;\n",
       "    }\n",
       "\n",
       "    .dataframe thead th {\n",
       "        text-align: right;\n",
       "    }\n",
       "</style>\n",
       "<table border=\"1\" class=\"dataframe\">\n",
       "  <thead>\n",
       "    <tr style=\"text-align: right;\">\n",
       "      <th></th>\n",
       "      <th>userID</th>\n",
       "      <th>Track</th>\n",
       "      <th>artist</th>\n",
       "      <th>genre</th>\n",
       "      <th>City</th>\n",
       "      <th>time</th>\n",
       "      <th>Day</th>\n",
       "    </tr>\n",
       "  </thead>\n",
       "  <tbody>\n",
       "    <tr>\n",
       "      <th>count</th>\n",
       "      <td>65079</td>\n",
       "      <td>63736</td>\n",
       "      <td>57512</td>\n",
       "      <td>63881</td>\n",
       "      <td>65079</td>\n",
       "      <td>65079</td>\n",
       "      <td>65079</td>\n",
       "    </tr>\n",
       "    <tr>\n",
       "      <th>unique</th>\n",
       "      <td>41748</td>\n",
       "      <td>39666</td>\n",
       "      <td>37806</td>\n",
       "      <td>268</td>\n",
       "      <td>2</td>\n",
       "      <td>20392</td>\n",
       "      <td>3</td>\n",
       "    </tr>\n",
       "    <tr>\n",
       "      <th>top</th>\n",
       "      <td>A8AE9169</td>\n",
       "      <td>Brand</td>\n",
       "      <td>Kartvelli</td>\n",
       "      <td>pop</td>\n",
       "      <td>Springfield</td>\n",
       "      <td>08:14:07</td>\n",
       "      <td>Friday</td>\n",
       "    </tr>\n",
       "    <tr>\n",
       "      <th>freq</th>\n",
       "      <td>76</td>\n",
       "      <td>136</td>\n",
       "      <td>136</td>\n",
       "      <td>8850</td>\n",
       "      <td>45360</td>\n",
       "      <td>14</td>\n",
       "      <td>23149</td>\n",
       "    </tr>\n",
       "  </tbody>\n",
       "</table>\n",
       "</div>"
      ],
      "text/plain": [
       "          userID  Track     artist  genre       City        time     Day\n",
       "count      65079  63736      57512  63881        65079     65079   65079\n",
       "unique     41748  39666      37806    268            2     20392       3\n",
       "top     A8AE9169  Brand  Kartvelli    pop  Springfield  08:14:07  Friday\n",
       "freq          76    136        136   8850        45360        14   23149"
      ]
     },
     "execution_count": 2,
     "metadata": {},
     "output_type": "execute_result"
    }
   ],
   "source": [
    "df = pd.read_csv('/datasets/music_project_en.csv')\n",
    "df.describe()"
   ]
  },
  {
   "cell_type": "code",
   "execution_count": 3,
   "metadata": {
    "id": "oWTVX3gW_Zct"
   },
   "outputs": [
    {
     "name": "stdout",
     "output_type": "stream",
     "text": [
      "     userID                        Track            artist   genre  \\\n",
      "0  FFB692EC            Kamigata To Boots  The Mass Missile    rock   \n",
      "1  55204538  Delayed Because of Accident  Andreas Rönnberg    rock   \n",
      "2    20EC38            Funiculì funiculà       Mario Lanza     pop   \n",
      "3  A3DD03C9        Dragons in the Sunset        Fire + Ice    folk   \n",
      "4  E2DC1FAE                  Soul People        Space Echo   dance   \n",
      "5  842029A1                       Chains          Obladaet  rusrap   \n",
      "6  4CB90AA5                         True      Roman Messer   dance   \n",
      "7  F03E1C1F             Feeling This Way   Polina Griffith   dance   \n",
      "8  8FA1D3BE                     L’estate       Julia Dalia  ruspop   \n",
      "9  E772D5C0                    Pessimist               NaN   dance   \n",
      "\n",
      "        City        time        Day  \n",
      "0  Shelbyville  20:28:33  Wednesday  \n",
      "1  Springfield  14:07:09     Friday  \n",
      "2  Shelbyville  20:58:07  Wednesday  \n",
      "3  Shelbyville  08:37:09     Monday  \n",
      "4  Springfield  08:34:34     Monday  \n",
      "5  Shelbyville  13:09:41     Friday  \n",
      "6  Springfield  13:00:07  Wednesday  \n",
      "7  Springfield  20:47:49  Wednesday  \n",
      "8  Springfield  09:17:40     Friday  \n",
      "9  Shelbyville  21:20:49  Wednesday  \n"
     ]
    }
   ],
   "source": [
    "print(df.head(10))"
   ]
  },
  {
   "cell_type": "code",
   "execution_count": 4,
   "metadata": {
    "id": "DSf2kIb-_Zct"
   },
   "outputs": [
    {
     "name": "stdout",
     "output_type": "stream",
     "text": [
      "<class 'pandas.core.frame.DataFrame'>\n",
      "RangeIndex: 65079 entries, 0 to 65078\n",
      "Data columns (total 7 columns):\n",
      " #   Column    Non-Null Count  Dtype \n",
      "---  ------    --------------  ----- \n",
      " 0     userID  65079 non-null  object\n",
      " 1   Track     63736 non-null  object\n",
      " 2   artist    57512 non-null  object\n",
      " 3   genre     63881 non-null  object\n",
      " 4     City    65079 non-null  object\n",
      " 5   time      65079 non-null  object\n",
      " 6   Day       65079 non-null  object\n",
      "dtypes: object(7)\n",
      "memory usage: 3.5+ MB\n"
     ]
    }
   ],
   "source": [
    "df.info()"
   ]
  },
  {
   "cell_type": "markdown",
   "metadata": {
    "id": "TaQ2Iwbr_Zct"
   },
   "source": [
    "La tabla contiene siete columnas. Todas almacenan el mismo tipo de datos: objeto.\n",
    "\n",
    "De acuerdo con la documentación:\n",
    "- `'userID'` — identificador del usuario\n",
    "- `'Track'` — título de la pista\n",
    "- `'artist'` — nombre del artista\n",
    "- `'genre'` — género\n",
    "- `'City'` — ciudad del usuario\n",
    "- `'time'` — el periodo de tiempo exacto en que se reprodujo la pista\n",
    "- `'Day'` — día de la semana\n",
    "\n",
    "Podemos ver tres problemas con el estilo en los nombres de las columnas:\n",
    "1. Algunos nombres están en mayúsculas, otros en minúsculas.\n",
    "2. Hay algunos espacios en algunos nombres.\n",
    "3. `Detecta el tercer problema tú mismo y descríbelo aquí`.\n",
    "\n",
    "El número de valores de las columnas es diferente. Esto significa que los datos contienen valores ausentes.\n"
   ]
  },
  {
   "cell_type": "markdown",
   "metadata": {
    "id": "MCB6-dXG_Zct"
   },
   "source": [
    "### Conclusiones <a id='data_review_conclusions'></a> \n",
    "\n",
    "Cada fila de la tabla almacena datos de la pista que fue reproducida. Algunas columnas describen la pista en sí: su título, el artista y el género. El resto transmite la información del usuario: la ciudad de la que viene, el tiempo que ha reproducido la pista. \n",
    "\n",
    "Está claro que los datos son suficientes para probar la hipótesis. Sin embargo, hay valores ausentes.\n",
    "\n",
    "Para continuar, necesitamos preprocesar los datos."
   ]
  },
  {
   "cell_type": "markdown",
   "metadata": {
    "id": "SjYF6Ub9_Zct"
   },
   "source": [
    "## Etapa 2. Preprocesamiento de datos <a id='data_preprocessing'></a>\n"
   ]
  },
  {
   "cell_type": "markdown",
   "metadata": {
    "id": "dIaKXr29_Zct"
   },
   "source": [
    "### Estilo del encabezado <a id='header_style'></a>\n"
   ]
  },
  {
   "cell_type": "code",
   "execution_count": 5,
   "metadata": {
    "id": "oKOTdF_Q_Zct"
   },
   "outputs": [
    {
     "name": "stdout",
     "output_type": "stream",
     "text": [
      "Index(['  userID', 'Track', 'artist', 'genre', '  City  ', 'time', 'Day'], dtype='object')\n"
     ]
    }
   ],
   "source": [
    "print(df.columns)"
   ]
  },
  {
   "cell_type": "code",
   "execution_count": 6,
   "metadata": {
    "id": "ISlFqs5y_Zct"
   },
   "outputs": [],
   "source": [
    "df = df.rename(columns={\n",
    "    '  userID': 'user_id',\n",
    "    'Track': 'track',\n",
    "    '  City  ': 'city',\n",
    "    'Day': 'day'\n",
    "})"
   ]
  },
  {
   "cell_type": "code",
   "execution_count": 7,
   "metadata": {
    "id": "d4NOAmTW_Zct"
   },
   "outputs": [
    {
     "name": "stdout",
     "output_type": "stream",
     "text": [
      "Index(['user_id', 'track', 'artist', 'genre', 'city', 'time', 'day'], dtype='object')\n"
     ]
    }
   ],
   "source": [
    "print(df.columns)"
   ]
  },
  {
   "cell_type": "markdown",
   "metadata": {
    "id": "5ISfbcfY_Zct"
   },
   "source": [
    "### Valores ausentes <a id='missing_values'></a>\n"
   ]
  },
  {
   "cell_type": "code",
   "execution_count": 8,
   "metadata": {
    "id": "RskX29qr_Zct"
   },
   "outputs": [
    {
     "name": "stdout",
     "output_type": "stream",
     "text": [
      "user_id       0\n",
      "track      1343\n",
      "artist     7567\n",
      "genre      1198\n",
      "city          0\n",
      "time          0\n",
      "day           0\n",
      "dtype: int64\n"
     ]
    }
   ],
   "source": [
    "print(df.isna().sum())"
   ]
  },
  {
   "cell_type": "markdown",
   "metadata": {
    "id": "qubhgnlO_Zct"
   },
   "source": [
    "No todos los valores ausentes afectan a la investigación. Por ejemplo, los valores ausentes en la pista y artista no son cruciales. Simplemente puedes reemplazarlos por marcadores claros.\n",
    "\n",
    "Pero los valores ausentes en `'genre'` pueden afectar la comparación entre las preferencias musicales de Springfield y Shelbyville. En la vida real, sería útil saber las razones por las cuales hay datos ausentes e intentar recuperarlos. Pero no tenemos esa oportunidad en este proyecto. Así que tendrás que:\n",
    "* Rellenar esos valores ausentes con marcadores\n",
    "* Evaluar cuánto podrían afectar los valores ausentes a tus cómputos."
   ]
  },
  {
   "cell_type": "code",
   "execution_count": 9,
   "metadata": {
    "id": "KplB5qWs_Zct"
   },
   "outputs": [],
   "source": [
    "columns_to_replace = ['track', 'artist', 'genre']\n",
    "\n",
    "for column in columns_to_replace:\n",
    "    df[column] = df[column].fillna('unknown')\n",
    "    \n"
   ]
  },
  {
   "cell_type": "code",
   "execution_count": 10,
   "metadata": {
    "id": "Tq4nYRX4_Zct"
   },
   "outputs": [
    {
     "name": "stdout",
     "output_type": "stream",
     "text": [
      "user_id    0\n",
      "track      0\n",
      "artist     0\n",
      "genre      0\n",
      "city       0\n",
      "time       0\n",
      "day        0\n",
      "dtype: int64\n"
     ]
    }
   ],
   "source": [
    "print(df.isna().sum())"
   ]
  },
  {
   "cell_type": "markdown",
   "metadata": {
    "id": "BWKRtBJ3_Zct"
   },
   "source": [
    "### Duplicados <a id='duplicates'></a>\n"
   ]
  },
  {
   "cell_type": "code",
   "execution_count": 11,
   "metadata": {
    "id": "36eES_S0_Zct"
   },
   "outputs": [
    {
     "name": "stdout",
     "output_type": "stream",
     "text": [
      "3826\n"
     ]
    }
   ],
   "source": [
    "\n",
    "print(df.duplicated().sum())"
   ]
  },
  {
   "cell_type": "code",
   "execution_count": 12,
   "metadata": {
    "id": "exFHq6tt_Zct"
   },
   "outputs": [
    {
     "name": "stdout",
     "output_type": "stream",
     "text": [
      "        user_id                              track            artist  \\\n",
      "0      FFB692EC                  Kamigata To Boots  The Mass Missile   \n",
      "1      55204538        Delayed Because of Accident  Andreas Rönnberg   \n",
      "2        20EC38                  Funiculì funiculà       Mario Lanza   \n",
      "3      A3DD03C9              Dragons in the Sunset        Fire + Ice   \n",
      "4      E2DC1FAE                        Soul People        Space Echo   \n",
      "...         ...                                ...               ...   \n",
      "65074  729CBB09                            My Name            McLean   \n",
      "65075  D08D4A55  Maybe One Day (feat. Black Spade)       Blu & Exile   \n",
      "65076  C5E3A0D5                          Jalopiina           unknown   \n",
      "65077  321D0506                      Freight Train     Chas McDevitt   \n",
      "65078  3A64EF84          Tell Me Sweet Little Lies      Monica Lopez   \n",
      "\n",
      "            genre         city      time        day  \n",
      "0            rock  Shelbyville  20:28:33  Wednesday  \n",
      "1            rock  Springfield  14:07:09     Friday  \n",
      "2             pop  Shelbyville  20:58:07  Wednesday  \n",
      "3            folk  Shelbyville  08:37:09     Monday  \n",
      "4           dance  Springfield  08:34:34     Monday  \n",
      "...           ...          ...       ...        ...  \n",
      "65074         rnb  Springfield  13:32:28  Wednesday  \n",
      "65075         hip  Shelbyville  10:00:00     Monday  \n",
      "65076  industrial  Springfield  20:09:26     Friday  \n",
      "65077        rock  Springfield  21:43:59     Friday  \n",
      "65078     country  Springfield  21:59:46     Friday  \n",
      "\n",
      "[61253 rows x 7 columns]\n"
     ]
    }
   ],
   "source": [
    "pandas = df.drop_duplicates()\n",
    "print(pandas)"
   ]
  },
  {
   "cell_type": "code",
   "execution_count": 13,
   "metadata": {
    "id": "-8PuNWQ0_Zct"
   },
   "outputs": [
    {
     "name": "stdout",
     "output_type": "stream",
     "text": [
      "0\n"
     ]
    }
   ],
   "source": [
    "print(pandas.duplicated().sum())"
   ]
  },
  {
   "cell_type": "code",
   "execution_count": 14,
   "metadata": {
    "id": "JIUcqzZN_Zct"
   },
   "outputs": [
    {
     "name": "stdout",
     "output_type": "stream",
     "text": [
      "['acid', 'acoustic', 'action', 'adult', 'africa', 'afrikaans', 'alternative', 'ambient', 'americana', 'animated', 'anime', 'arabesk', 'arabic', 'arena', 'argentinetango', 'art', 'audiobook', 'avantgarde', 'axé', 'baile', 'balkan', 'beats', 'bigroom', 'black', 'bluegrass', 'blues', 'bollywood', 'bossa', 'brazilian', 'breakbeat', 'breaks', 'broadway', 'cantautori', 'cantopop', 'canzone', 'caribbean', 'caucasian', 'celtic', 'chamber', 'children', 'chill', 'chinese', 'choral', 'christian', 'christmas', 'classical', 'classicmetal', 'club', 'colombian', 'comedy', 'conjazz', 'contemporary', 'country', 'cuban', 'dance', 'dancehall', 'dancepop', 'dark', 'death', 'deep', 'deutschrock', 'deutschspr', 'dirty', 'disco', 'dnb', 'documentary', 'downbeat', 'downtempo', 'drum', 'dub', 'dubstep', 'eastern', 'easy', 'electronic', 'electropop', 'emo', 'entehno', 'epicmetal', 'estrada', 'ethnic', 'eurofolk', 'european', 'experimental', 'extrememetal', 'fado', 'film', 'fitness', 'flamenco', 'folk', 'folklore', 'folkmetal', 'folkrock', 'folktronica', 'forró', 'frankreich', 'französisch', 'french', 'funk', 'future', 'gangsta', 'garage', 'german', 'ghazal', 'gitarre', 'glitch', 'gospel', 'gothic', 'grime', 'grunge', 'gypsy', 'handsup', \"hard'n'heavy\", 'hardcore', 'hardstyle', 'hardtechno', 'hip', 'hip-hop', 'hiphop', 'historisch', 'holiday', 'hop', 'horror', 'house', 'idm', 'independent', 'indian', 'indie', 'indipop', 'industrial', 'inspirational', 'instrumental', 'international', 'irish', 'jam', 'japanese', 'jazz', 'jewish', 'jpop', 'jungle', 'k-pop', 'karadeniz', 'karaoke', 'kayokyoku', 'korean', 'laiko', 'latin', 'latino', 'leftfield', 'local', 'lounge', 'loungeelectronic', 'lovers', 'malaysian', 'mandopop', 'marschmusik', 'meditative', 'mediterranean', 'melodic', 'metal', 'metalcore', 'mexican', 'middle', 'minimal', 'miscellaneous', 'modern', 'mood', 'mpb', 'muslim', 'native', 'neoklassik', 'neue', 'new', 'newage', 'newwave', 'nu', 'nujazz', 'numetal', 'oceania', 'old', 'opera', 'orchestral', 'other', 'piano', 'pop', 'popelectronic', 'popeurodance', 'post', 'posthardcore', 'postrock', 'power', 'progmetal', 'progressive', 'psychedelic', 'punjabi', 'punk', 'quebecois', 'ragga', 'ram', 'rancheras', 'rap', 'rave', 'reggae', 'reggaeton', 'regional', 'relax', 'religious', 'retro', 'rhythm', 'rnb', 'rnr', 'rock', 'rockabilly', 'romance', 'roots', 'ruspop', 'rusrap', 'rusrock', 'salsa', 'samba', 'schlager', 'self', 'sertanejo', 'shoegazing', 'showtunes', 'singer', 'ska', 'slow', 'smooth', 'soul', 'soulful', 'sound', 'soundtrack', 'southern', 'specialty', 'speech', 'spiritual', 'sport', 'stonerrock', 'surf', 'swing', 'synthpop', 'sängerportrait', 'tango', 'tanzorchester', 'taraftar', 'tech', 'techno', 'thrash', 'top', 'traditional', 'tradjazz', 'trance', 'tribal', 'trip', 'triphop', 'tropical', 'türk', 'türkçe', 'unknown', 'urban', 'uzbek', 'variété', 'vi', 'videogame', 'vocal', 'western', 'world', 'worldbeat', 'ïîï']\n"
     ]
    }
   ],
   "source": [
    "print(sorted(df['genre'].unique()))"
   ]
  },
  {
   "cell_type": "code",
   "execution_count": 15,
   "metadata": {
    "id": "ErNDkmns_Zct"
   },
   "outputs": [],
   "source": [
    "# función para reemplazar duplicados implícitos\n",
    "def replace_wrong_genres(wrong_genres, correct_genre):\n",
    "    for wrong_genre in wrong_genres:\n",
    "        df['genre'] = df['genre'].replace(wrong_genre, correct_genre)\n",
    "        \n"
   ]
  },
  {
   "cell_type": "code",
   "execution_count": 16,
   "metadata": {
    "id": "YN5i2hpmSo09"
   },
   "outputs": [
    {
     "name": "stdout",
     "output_type": "stream",
     "text": [
      "        user_id                              track            artist  \\\n",
      "0      FFB692EC                  Kamigata To Boots  The Mass Missile   \n",
      "1      55204538        Delayed Because of Accident  Andreas Rönnberg   \n",
      "2        20EC38                  Funiculì funiculà       Mario Lanza   \n",
      "3      A3DD03C9              Dragons in the Sunset        Fire + Ice   \n",
      "4      E2DC1FAE                        Soul People        Space Echo   \n",
      "...         ...                                ...               ...   \n",
      "65074  729CBB09                            My Name            McLean   \n",
      "65075  D08D4A55  Maybe One Day (feat. Black Spade)       Blu & Exile   \n",
      "65076  C5E3A0D5                          Jalopiina           unknown   \n",
      "65077  321D0506                      Freight Train     Chas McDevitt   \n",
      "65078  3A64EF84          Tell Me Sweet Little Lies      Monica Lopez   \n",
      "\n",
      "            genre         city      time        day  \n",
      "0            rock  Shelbyville  20:28:33  Wednesday  \n",
      "1            rock  Springfield  14:07:09     Friday  \n",
      "2             pop  Shelbyville  20:58:07  Wednesday  \n",
      "3            folk  Shelbyville  08:37:09     Monday  \n",
      "4           dance  Springfield  08:34:34     Monday  \n",
      "...           ...          ...       ...        ...  \n",
      "65074         rnb  Springfield  13:32:28  Wednesday  \n",
      "65075      hiphop  Shelbyville  10:00:00     Monday  \n",
      "65076  industrial  Springfield  20:09:26     Friday  \n",
      "65077        rock  Springfield  21:43:59     Friday  \n",
      "65078     country  Springfield  21:59:46     Friday  \n",
      "\n",
      "[65079 rows x 7 columns]\n"
     ]
    }
   ],
   "source": [
    "# eliminando duplicados implícitos\n",
    "duplicates = ['hip', 'hop', 'hip-hop']\n",
    "genre = 'hiphop'\n",
    "replace_wrong_genres(duplicates, genre)\n",
    "print(df)"
   ]
  },
  {
   "cell_type": "code",
   "execution_count": 17,
   "metadata": {
    "id": "wvixALnFG15m"
   },
   "outputs": [
    {
     "name": "stdout",
     "output_type": "stream",
     "text": [
      "['acid', 'acoustic', 'action', 'adult', 'africa', 'afrikaans', 'alternative', 'ambient', 'americana', 'animated', 'anime', 'arabesk', 'arabic', 'arena', 'argentinetango', 'art', 'audiobook', 'avantgarde', 'axé', 'baile', 'balkan', 'beats', 'bigroom', 'black', 'bluegrass', 'blues', 'bollywood', 'bossa', 'brazilian', 'breakbeat', 'breaks', 'broadway', 'cantautori', 'cantopop', 'canzone', 'caribbean', 'caucasian', 'celtic', 'chamber', 'children', 'chill', 'chinese', 'choral', 'christian', 'christmas', 'classical', 'classicmetal', 'club', 'colombian', 'comedy', 'conjazz', 'contemporary', 'country', 'cuban', 'dance', 'dancehall', 'dancepop', 'dark', 'death', 'deep', 'deutschrock', 'deutschspr', 'dirty', 'disco', 'dnb', 'documentary', 'downbeat', 'downtempo', 'drum', 'dub', 'dubstep', 'eastern', 'easy', 'electronic', 'electropop', 'emo', 'entehno', 'epicmetal', 'estrada', 'ethnic', 'eurofolk', 'european', 'experimental', 'extrememetal', 'fado', 'film', 'fitness', 'flamenco', 'folk', 'folklore', 'folkmetal', 'folkrock', 'folktronica', 'forró', 'frankreich', 'französisch', 'french', 'funk', 'future', 'gangsta', 'garage', 'german', 'ghazal', 'gitarre', 'glitch', 'gospel', 'gothic', 'grime', 'grunge', 'gypsy', 'handsup', \"hard'n'heavy\", 'hardcore', 'hardstyle', 'hardtechno', 'hiphop', 'historisch', 'holiday', 'horror', 'house', 'idm', 'independent', 'indian', 'indie', 'indipop', 'industrial', 'inspirational', 'instrumental', 'international', 'irish', 'jam', 'japanese', 'jazz', 'jewish', 'jpop', 'jungle', 'k-pop', 'karadeniz', 'karaoke', 'kayokyoku', 'korean', 'laiko', 'latin', 'latino', 'leftfield', 'local', 'lounge', 'loungeelectronic', 'lovers', 'malaysian', 'mandopop', 'marschmusik', 'meditative', 'mediterranean', 'melodic', 'metal', 'metalcore', 'mexican', 'middle', 'minimal', 'miscellaneous', 'modern', 'mood', 'mpb', 'muslim', 'native', 'neoklassik', 'neue', 'new', 'newage', 'newwave', 'nu', 'nujazz', 'numetal', 'oceania', 'old', 'opera', 'orchestral', 'other', 'piano', 'pop', 'popelectronic', 'popeurodance', 'post', 'posthardcore', 'postrock', 'power', 'progmetal', 'progressive', 'psychedelic', 'punjabi', 'punk', 'quebecois', 'ragga', 'ram', 'rancheras', 'rap', 'rave', 'reggae', 'reggaeton', 'regional', 'relax', 'religious', 'retro', 'rhythm', 'rnb', 'rnr', 'rock', 'rockabilly', 'romance', 'roots', 'ruspop', 'rusrap', 'rusrock', 'salsa', 'samba', 'schlager', 'self', 'sertanejo', 'shoegazing', 'showtunes', 'singer', 'ska', 'slow', 'smooth', 'soul', 'soulful', 'sound', 'soundtrack', 'southern', 'specialty', 'speech', 'spiritual', 'sport', 'stonerrock', 'surf', 'swing', 'synthpop', 'sängerportrait', 'tango', 'tanzorchester', 'taraftar', 'tech', 'techno', 'thrash', 'top', 'traditional', 'tradjazz', 'trance', 'tribal', 'trip', 'triphop', 'tropical', 'türk', 'türkçe', 'unknown', 'urban', 'uzbek', 'variété', 'vi', 'videogame', 'vocal', 'western', 'world', 'worldbeat', 'ïîï']\n"
     ]
    }
   ],
   "source": [
    "# revisando en busca de duplicados implícitos\n",
    "print(sorted(df['genre'].unique()))"
   ]
  },
  {
   "cell_type": "markdown",
   "metadata": {
    "id": "jz6a9-7HQUDd"
   },
   "source": [
    "### Conclusiones <a id='data_preprocessing_conclusions'></a>\n",
    "Detectamos tres problemas con los datos:\n",
    "\n",
    "- Estilos de encabezados incorrectos\n",
    "- Valores ausentes\n",
    "- Duplicados obvios e implícitos\n",
    "\n",
    "Los encabezados han sido eliminados para conseguir que el procesamiento de la tabla sea más sencillo.\n",
    "\n",
    "Todos los valores ausentes han sido reemplazados por `'unknown'`. Pero todavía tenemos que ver si los valores ausentes en `'genre'` afectan a nuestros cálculos.\n",
    "\n",
    "La ausencia de duplicados hará que los resultados sean mas precisos y fáciles de entender.\n",
    "\n",
    "Ahora ya podemos continuar probando las hipótesis. "
   ]
  },
  {
   "cell_type": "markdown",
   "metadata": {
    "id": "WttZHXH0SqKk"
   },
   "source": [
    "## Etapa 3. Prueba de hipótesis <a id='hypotheses'></a>"
   ]
  },
  {
   "cell_type": "markdown",
   "metadata": {
    "id": "Im936VVi_Zcu"
   },
   "source": [
    "### Hipótesis 1: comparar el comportamiento del usuario en las dos ciudades <a id='activity'></a>"
   ]
  },
  {
   "cell_type": "markdown",
   "metadata": {
    "id": "nwt_MuaL_Zcu"
   },
   "source": [
    "De acuerdo con la primera hipótesis, los usuarios de Springfield y Shelbyville escuchan música de forma distinta. Comprueba esto utilizando los datos de tres días de la semana: lunes, miércoles y viernes.\n",
    "\n",
    "* Divide a los usuarios en grupos por ciudad.\n",
    "* Compara cuántas pistas reprodujo cada grupo el lunes, el miércoles y el viernes.\n"
   ]
  },
  {
   "cell_type": "code",
   "execution_count": 18,
   "metadata": {
    "id": "0_Qs96oh_Zcu"
   },
   "outputs": [
    {
     "data": {
      "text/plain": [
       "city\n",
       "Shelbyville    19719\n",
       "Springfield    45360\n",
       "Name: track, dtype: int64"
      ]
     },
     "execution_count": 18,
     "metadata": {},
     "output_type": "execute_result"
    }
   ],
   "source": [
    "# contando las pistas reproducidas en cada ciudad\n",
    "df.groupby('city')['track'].count()\n"
   ]
  },
  {
   "cell_type": "markdown",
   "metadata": {
    "id": "dzli3w8o_Zcu"
   },
   "source": [
    "Springfield ha reproducido más pistas que Shelbyville. Pero eso no implica que los ciudadanos de Springfield escuchen música más a menudo. Esta ciudad es simplemente más grande y hay más usuarios.\n",
    "\n"
   ]
  },
  {
   "cell_type": "code",
   "execution_count": 19,
   "metadata": {
    "id": "uZMKjiJz_Zcu"
   },
   "outputs": [
    {
     "data": {
      "text/plain": [
       "day\n",
       "Friday       23149\n",
       "Monday       22697\n",
       "Wednesday    19233\n",
       "Name: track, dtype: int64"
      ]
     },
     "execution_count": 19,
     "metadata": {},
     "output_type": "execute_result"
    }
   ],
   "source": [
    "df.groupby('day')['track'].count()"
   ]
  },
  {
   "cell_type": "markdown",
   "metadata": {
    "id": "cC2tNrlL_Zcu"
   },
   "source": [
    "El miércoles fue el día más silencioso de todos. Pero si consideramos las dos ciudades por separado podríamos llegar a una conclusión diferente."
   ]
  },
  {
   "cell_type": "code",
   "execution_count": 20,
   "metadata": {
    "id": "Nz3GdQB1_Zcu"
   },
   "outputs": [
    {
     "name": "stdout",
     "output_type": "stream",
     "text": [
      "16715\n"
     ]
    }
   ],
   "source": [
    "# <creando la función number_tracks()>\n",
    "\n",
    "def number_tracks(day='Monday',city='Springfield'):\n",
    "    track_list = df[df['day'] == day] \n",
    "    track_list = track_list[track_list['city'] == city] \n",
    "    track_list_count = track_list['user_id'].count()\n",
    "    \n",
    "    return track_list_count\n",
    "print(number_tracks())\n",
    "\n",
    "# declararemos la función con dos parámetros: day=, city=.\n",
    "# deja que la variable track_list almacene las filas df en las que\n",
    "# el valor en la columna 'day' es igual al parámetro day= y, al mismo tiempo, \n",
    "# el valor de la columna 'city' es igual al parámetro city= (aplica el filtrado consecutivo \n",
    "# con indexación lógica).\n",
    "# deja que la variable track_list_count almacene el número de valores de la columna 'user_id' en track_list\n",
    "# (encontrado con el método count()).\n",
    "# permite que la función devuelva un número: el valor de track_list_count.\n",
    "\n",
    "# la función cuenta las pistas reproducidas en un cierto día y ciudad.\n",
    "# primero recupera las filas del día deseado de la tabla,\n",
    "# después filtra las filas de la ciudad deseada del resultado,\n",
    "# entonces, encuentra el número de valores de 'user_id' en la tabla filtrada,\n",
    "# y devuelve ese número.\n",
    "# para ver lo que devuelve, envuelve la llamada de la función en print()."
   ]
  },
  {
   "cell_type": "code",
   "execution_count": 21,
   "metadata": {
    "id": "rJcRATNQ_Zcu"
   },
   "outputs": [
    {
     "name": "stdout",
     "output_type": "stream",
     "text": [
      "16715\n"
     ]
    }
   ],
   "source": [
    "# el número de canciones reproducidas en Springfield el lunes\n",
    "print(number_tracks('Monday', 'Springfield'))"
   ]
  },
  {
   "cell_type": "code",
   "execution_count": 22,
   "metadata": {
    "id": "hq_ncZ5T_Zcu"
   },
   "outputs": [
    {
     "name": "stdout",
     "output_type": "stream",
     "text": [
      "5982\n"
     ]
    }
   ],
   "source": [
    "# el número de canciones reproducidas en Shelbyville el lunes\n",
    "print(number_tracks('Monday', 'Shelbyville'))"
   ]
  },
  {
   "cell_type": "code",
   "execution_count": 23,
   "metadata": {
    "id": "_NTy2VPU_Zcu"
   },
   "outputs": [
    {
     "name": "stdout",
     "output_type": "stream",
     "text": [
      "11755\n"
     ]
    }
   ],
   "source": [
    "# el número de canciones reproducidas en Springfield el miércoles\n",
    "print(number_tracks('Wednesday', 'Springfield'))"
   ]
  },
  {
   "cell_type": "code",
   "execution_count": 24,
   "metadata": {
    "id": "j2y3TAwo_Zcu"
   },
   "outputs": [
    {
     "name": "stdout",
     "output_type": "stream",
     "text": [
      "7478\n"
     ]
    }
   ],
   "source": [
    "# el número de canciones reproducidas en Shelbyville el miércoles\n",
    "print(number_tracks('Wednesday', 'Shelbyville'))"
   ]
  },
  {
   "cell_type": "code",
   "execution_count": 25,
   "metadata": {
    "id": "vYDw5u_K_Zcu"
   },
   "outputs": [
    {
     "name": "stdout",
     "output_type": "stream",
     "text": [
      "16890\n"
     ]
    }
   ],
   "source": [
    "# el número de canciones reproducidas en Springfield el viernes\n",
    "print(number_tracks('Friday', 'Springfield'))"
   ]
  },
  {
   "cell_type": "code",
   "execution_count": 26,
   "metadata": {
    "id": "8_yzFtW3_Zcu"
   },
   "outputs": [
    {
     "name": "stdout",
     "output_type": "stream",
     "text": [
      "6259\n"
     ]
    }
   ],
   "source": [
    "# el número de canciones reproducidas en Shelbyville el viernes\n",
    "print(number_tracks('Friday', 'Shelbyville'))"
   ]
  },
  {
   "cell_type": "markdown",
   "metadata": {
    "id": "7QXffbO-_Zcu"
   },
   "source": [
    "Utiliza `pd.DataFrame` para crear una tabla, donde\n",
    "* Los nombres de las columnas son: `['city', 'monday', 'wednesday', 'friday']`\n",
    "* Los datos son los resultados que conseguiste de `number_tracks()`"
   ]
  },
  {
   "cell_type": "code",
   "execution_count": 27,
   "metadata": {},
   "outputs": [],
   "source": [
    "columnas = ['city','monday','wednesday','friday']\n",
    "datos = [\n",
    "            ['Springfield', 16715,11755,16890],\n",
    "            ['Shelbyville', 5982,7478,6259]\n",
    "        ]\n",
    "\n",
    "cities_table = pd.DataFrame(data=datos,columns=columnas)"
   ]
  },
  {
   "cell_type": "code",
   "execution_count": 28,
   "metadata": {
    "id": "APAcLpOr_Zcu"
   },
   "outputs": [
    {
     "name": "stdout",
     "output_type": "stream",
     "text": [
      "          city  monday  wednesday  friday\n",
      "0  Springfield   16715      11755   16890\n",
      "1  Shelbyville    5982       7478    6259\n"
     ]
    }
   ],
   "source": [
    "# tabla con los resultados\n",
    "print(cities_table)"
   ]
  },
  {
   "cell_type": "markdown",
   "metadata": {
    "id": "-EgPIHYu_Zcu"
   },
   "source": [
    "**Conclusiones**\n",
    "\n",
    "Los datos revelan las diferencias en el comportamiento de los usuarios:\n",
    "\n",
    "- En Springfield, el número de canciones reproducidas alcanzan el punto máximo los lunes y viernes mientras que los miércoles hay un descenso de la actividad.\n",
    "- En Shelbyville, al contario, los usuarios escuchan más música los miércoles. La actividad de los usuarios los lunes y viernes es menor.\n",
    "\n",
    "Así que la primera hipótesis parece ser correcta."
   ]
  },
  {
   "cell_type": "markdown",
   "metadata": {
    "id": "atZAxtq4_Zcu"
   },
   "source": [
    "### Hipótesis 2: música al principio y al final de la semana <a id='week'></a>"
   ]
  },
  {
   "cell_type": "markdown",
   "metadata": {
    "id": "eXrQqXFH_Zcu"
   },
   "source": [
    "De acuerdo con la segunda hipótesis, los lunes por la mañana y los viernes por la noche los ciudadanos de Springfield escuchan géneros que difieren de aquellos que los usuarios de Shelbyville disfrutan."
   ]
  },
  {
   "cell_type": "markdown",
   "metadata": {
    "id": "S8UcW6Hw_Zcu"
   },
   "source": [
    "Obtén tablas (asegúrate de que el nombre de tu tabla combinada encaja con el DataFrame dado en los dos bloques de código de abajo):\n",
    "* Para Springfield — `spr_general`\n",
    "* Para Shelbyville — `shel_general`"
   ]
  },
  {
   "cell_type": "code",
   "execution_count": 29,
   "metadata": {
    "id": "qeaFfM_P_Zcu"
   },
   "outputs": [
    {
     "name": "stdout",
     "output_type": "stream",
     "text": [
      "        user_id                          track                   artist  \\\n",
      "1      55204538    Delayed Because of Accident         Andreas Rönnberg   \n",
      "4      E2DC1FAE                    Soul People               Space Echo   \n",
      "6      4CB90AA5                           True             Roman Messer   \n",
      "7      F03E1C1F               Feeling This Way          Polina Griffith   \n",
      "8      8FA1D3BE                       L’estate              Julia Dalia   \n",
      "...         ...                            ...                      ...   \n",
      "65073  83A474E7  I Worship Only What You Bleed  The Black Dahlia Murder   \n",
      "65074  729CBB09                        My Name                   McLean   \n",
      "65076  C5E3A0D5                      Jalopiina                  unknown   \n",
      "65077  321D0506                  Freight Train            Chas McDevitt   \n",
      "65078  3A64EF84      Tell Me Sweet Little Lies             Monica Lopez   \n",
      "\n",
      "              genre         city      time        day  \n",
      "1              rock  Springfield  14:07:09     Friday  \n",
      "4             dance  Springfield  08:34:34     Monday  \n",
      "6             dance  Springfield  13:00:07  Wednesday  \n",
      "7             dance  Springfield  20:47:49  Wednesday  \n",
      "8            ruspop  Springfield  09:17:40     Friday  \n",
      "...             ...          ...       ...        ...  \n",
      "65073  extrememetal  Springfield  21:07:12     Monday  \n",
      "65074           rnb  Springfield  13:32:28  Wednesday  \n",
      "65076    industrial  Springfield  20:09:26     Friday  \n",
      "65077          rock  Springfield  21:43:59     Friday  \n",
      "65078       country  Springfield  21:59:46     Friday  \n",
      "\n",
      "[45360 rows x 7 columns]\n"
     ]
    }
   ],
   "source": [
    "# obteniendo la tabla spr_general de las filas de df, \n",
    "# donde los valores en la columna 'city' es 'Springfield'\n",
    "spr_general = df[df['city'] == 'Springfield']\n",
    "print(spr_general)"
   ]
  },
  {
   "cell_type": "code",
   "execution_count": 30,
   "metadata": {
    "id": "ORaVRKto_Zcu"
   },
   "outputs": [
    {
     "name": "stdout",
     "output_type": "stream",
     "text": [
      "        user_id                              track            artist  \\\n",
      "0      FFB692EC                  Kamigata To Boots  The Mass Missile   \n",
      "2        20EC38                  Funiculì funiculà       Mario Lanza   \n",
      "3      A3DD03C9              Dragons in the Sunset        Fire + Ice   \n",
      "5      842029A1                             Chains          Obladaet   \n",
      "9      E772D5C0                          Pessimist           unknown   \n",
      "...         ...                                ...               ...   \n",
      "65064  BC8EC5CF       Red Lips: Gta (Rover Rework)             Rover   \n",
      "65065  29E04611                       Bre Petrunko     Perunika Trio   \n",
      "65066  1B91C621             (Hello) Cloud Mountain   sleepmakeswaves   \n",
      "65067  F1B93F29                        Poison Kiss       Centerstone   \n",
      "65075  D08D4A55  Maybe One Day (feat. Black Spade)       Blu & Exile   \n",
      "\n",
      "            genre         city      time        day  \n",
      "0            rock  Shelbyville  20:28:33  Wednesday  \n",
      "2             pop  Shelbyville  20:58:07  Wednesday  \n",
      "3            folk  Shelbyville  08:37:09     Monday  \n",
      "5          rusrap  Shelbyville  13:09:41     Friday  \n",
      "9           dance  Shelbyville  21:20:49  Wednesday  \n",
      "...           ...          ...       ...        ...  \n",
      "65064  electronic  Shelbyville  21:06:50     Monday  \n",
      "65065       world  Shelbyville  13:56:00     Monday  \n",
      "65066    postrock  Shelbyville  09:22:13     Monday  \n",
      "65067        rock  Shelbyville  22:00:29     Monday  \n",
      "65075      hiphop  Shelbyville  10:00:00     Monday  \n",
      "\n",
      "[19719 rows x 7 columns]\n"
     ]
    }
   ],
   "source": [
    "# obteniendo shel_general de las filas df,\n",
    "# donde el valor de la columna 'city' es 'Shelbyville'\n",
    "shel_general = df[df['city'] == 'Shelbyville']\n",
    "print(shel_general)"
   ]
  },
  {
   "cell_type": "code",
   "execution_count": 31,
   "metadata": {
    "id": "laJT9BYl_Zcu"
   },
   "outputs": [],
   "source": [
    "# declarando la función genre_weekday() con los parámetros day=, time1= y time2=. Debería\n",
    "# devolver información sobre los géneros más populares de un determinado día a una determinada hora:\n",
    "\n",
    "# 1) Deja que la variable genre_df almacene las filas que cumplen varias condiciones:\n",
    "#    - el valor de la columna 'day' es igual al valor del argumento day=\n",
    "#    - el valor de la columna 'time' es mayor que el valor del argumento time1=\n",
    "#    - el valor en la columna 'time' es menor que el valor del argumento time2=\n",
    "#    Utiliza un filtrado consecutivo con indexación lógica.\n",
    "\n",
    "# 2) Agrupa genre_df por la columna 'genre', toma una de sus columnas, \n",
    "#    y utiliza el método count() para encontrar el número de entradas por cada uno de \n",
    "#    los géneros representados; almacena los Series resultantes en\n",
    "#    la variable genre_df_count\n",
    "\n",
    "# 3) Ordena genre_df_count en orden descendente de frecuencia y guarda el resultado\n",
    "#    en la variable genre_df_sorted\n",
    "\n",
    "# 4) Devuelve un objeto Series con los primeros 15 valores de genre_df_sorted - los 15\n",
    "#    géneros más populares (en un determinado día, en un determinado periodo de tiempo)\n",
    "\n",
    "# Escribe tu función aquí\n",
    "def genre_weekday(df,day,time_1,time_2):\n",
    "    # filtrado consecutivo\n",
    "    # genre_df solo almacenará aquellas filas df en las que el día sea igual a day=\n",
    "    genre_df = df[df['day']==day] # escribe tu código aquí\n",
    "\n",
    "    # genre_df solo almacenará aquellas filas df en las que el tiempo sea menos que time2=\n",
    "    genre_df = genre_df[genre_df['time']<time_2] # escribe tu código aquí\n",
    "    # genre_df solo almacenará aquellas filas df en las que el tiempo sea mayor que time1=\n",
    "    genre_df = genre_df[genre_df['time']>time_1] # escribe tu código aquí\n",
    "\n",
    "    # agrupa el DataFrame filtrado por la columna con los nombres de los géneros, toma la columna de género, y encuentra el número de filas por cada género con el método count()\n",
    "    genre_df_grouped = genre_df.groupby('genre')['genre'].count() # escribe tu código aquí\n",
    "\n",
    "    # ordenaremos el resultado en orden descendente (por lo que los géneros más populares aparecerán primero en el objeto Series)\n",
    "    genre_df_sorted = genre_df_grouped.sort_values(ascending=False)# escribe tu código aquí\n",
    "\n",
    "    # devolveremos el objeto Series que almacena los 15 géneros más populares en un día determinado en un periodo de tiempo determinado\n",
    "    return genre_df_sorted[:15]"
   ]
  },
  {
   "cell_type": "code",
   "execution_count": 32,
   "metadata": {
    "id": "yz7itPUQ_Zcu"
   },
   "outputs": [
    {
     "name": "stdout",
     "output_type": "stream",
     "text": [
      "genre\n",
      "pop            830\n",
      "dance          589\n",
      "rock           511\n",
      "electronic     501\n",
      "hiphop         311\n",
      "ruspop         203\n",
      "world          190\n",
      "rusrap         188\n",
      "alternative    175\n",
      "unknown        172\n",
      "classical      167\n",
      "metal          126\n",
      "jazz           109\n",
      "folk           107\n",
      "soundtrack      97\n",
      "Name: genre, dtype: int64\n"
     ]
    }
   ],
   "source": [
    "# llamando a la función para el lunes por la mañana en Springfield (utilizando spr_general en vez de la tabla df)\n",
    "print(genre_weekday(spr_general,'Monday','07:00','11:00'))"
   ]
  },
  {
   "cell_type": "code",
   "execution_count": 33,
   "metadata": {
    "id": "kwUcHPdy_Zcu"
   },
   "outputs": [
    {
     "name": "stdout",
     "output_type": "stream",
     "text": [
      "genre\n",
      "pop            238\n",
      "dance          192\n",
      "rock           173\n",
      "electronic     154\n",
      "hiphop          88\n",
      "ruspop          68\n",
      "alternative     65\n",
      "rusrap          56\n",
      "jazz            47\n",
      "classical       42\n",
      "world           39\n",
      "soundtrack      34\n",
      "rap             33\n",
      "rnb             31\n",
      "metal           28\n",
      "Name: genre, dtype: int64\n"
     ]
    }
   ],
   "source": [
    "# llamando a la función para el lunes por la mañana en Shelbyville (utilizando shel_general en vez de la tabla df)\n",
    "print(genre_weekday(shel_general,'Monday','07:00','11:00'))"
   ]
  },
  {
   "cell_type": "code",
   "execution_count": 34,
   "metadata": {
    "id": "EzXVRE1o_Zcu"
   },
   "outputs": [
    {
     "name": "stdout",
     "output_type": "stream",
     "text": [
      "genre\n",
      "pop            761\n",
      "rock           546\n",
      "dance          521\n",
      "electronic     510\n",
      "hiphop         282\n",
      "world          220\n",
      "ruspop         184\n",
      "alternative    176\n",
      "classical      171\n",
      "rusrap         151\n",
      "jazz           121\n",
      "unknown        117\n",
      "soundtrack     112\n",
      "metal           92\n",
      "rnb             92\n",
      "Name: genre, dtype: int64\n"
     ]
    }
   ],
   "source": [
    "# llamando a la función para el viernes por la tarde en Springfield\n",
    "print(genre_weekday(spr_general,'Friday','17:00','23:00'))\n"
   ]
  },
  {
   "cell_type": "code",
   "execution_count": 35,
   "metadata": {
    "id": "JZaEKu5v_Zcu",
    "scrolled": true
   },
   "outputs": [
    {
     "name": "stdout",
     "output_type": "stream",
     "text": [
      "genre\n",
      "pop            279\n",
      "rock           230\n",
      "electronic     227\n",
      "dance          221\n",
      "hiphop         103\n",
      "alternative     67\n",
      "rusrap          66\n",
      "jazz            66\n",
      "classical       64\n",
      "world           60\n",
      "unknown         49\n",
      "ruspop          49\n",
      "soundtrack      40\n",
      "rap             39\n",
      "metal           39\n",
      "Name: genre, dtype: int64\n"
     ]
    }
   ],
   "source": [
    "# llamando a la función para el viernes por la tarde en Shelbyville\n",
    "print(genre_weekday(shel_general,'Friday','17:00','23:00'))\n"
   ]
  },
  {
   "cell_type": "markdown",
   "metadata": {
    "id": "wrCe4MNX_Zcu"
   },
   "source": [
    "**Conclusión**\n",
    "\n",
    "Habiendo comparado los 15 géneros más populares del lunes por la mañana podemos concluir lo siguiente:\n",
    "\n",
    "1. Los usuarios de Springfield y Shelbyville escuchan música similar. Los cinco géneros más populares son los mismos, solo rock y electrónica han intercambiado posiciones.\n",
    "\n",
    "2. En Springfield el número de valores ausentes resultaron ser tan altos que el valor `'unknown'` llegó al décimo. Esto significa que los valores ausentes forman una parte considerable de los datos, lo que podría ser la base de la cuestión sobre la fiabilidad de nuestras conclusiones.\n",
    "\n",
    "Para el viernes por la tarde, la situación es similar. Los géneros individuales varían algo pero, en general, los 15 más populares son parecidos en las dos ciudades.\n",
    "\n",
    "De esta forma, la segunda hipótesis ha sido parcialmente demostrada:\n",
    "* Los usuarios escuchan música similar al principio y al final de la semana.\n",
    "* No hay una gran diferencia entre Springfield y Shelbyville. En ambas ciudades, el world es el género más popular.\n",
    "\n",
    "Sin embargo, el número de valores ausentes hace este resultado un tanto cuestionable. En Springfield, hay tantos que afectan a nuestros 15 más populares. De no faltarnos esos valores, las cosas podrían parecer diferentes."
   ]
  },
  {
   "cell_type": "markdown",
   "metadata": {
    "id": "JolODAqr_Zcu"
   },
   "source": [
    "### Hipótesis 3: preferencias de género en Springfield y Shelbyville <a id='genre'></a>\n",
    "\n",
    "Hipótesis: Shelbyville ama la música rap. A los ciudadanos de Springfield les gusta más el pop."
   ]
  },
  {
   "cell_type": "code",
   "execution_count": 36,
   "metadata": {
    "id": "r19lIPke_Zcu"
   },
   "outputs": [],
   "source": [
    "# en una línea: agrupa la tabla spr_general por la columna 'genre', \n",
    "# cuenta los valores 'genre' con count() en la agrupación, \n",
    "# ordena el Series resultante en orden descendiente, y almacénalo en spr_genres\n",
    "spr_genres = spr_general.groupby('genre')['genre'].count().sort_values(ascending=False)"
   ]
  },
  {
   "cell_type": "code",
   "execution_count": 37,
   "metadata": {
    "id": "WhCSooF8_Zcv"
   },
   "outputs": [
    {
     "name": "stdout",
     "output_type": "stream",
     "text": [
      "genre\n",
      "pop            6253\n",
      "dance          4707\n",
      "rock           4188\n",
      "electronic     4010\n",
      "hiphop         2215\n",
      "classical      1712\n",
      "world          1516\n",
      "alternative    1466\n",
      "ruspop         1453\n",
      "rusrap         1239\n",
      "Name: genre, dtype: int64\n"
     ]
    }
   ],
   "source": [
    "# imprimiendo las 10 primeras filas de spr_genres\n",
    "print(spr_genres.head(10))"
   ]
  },
  {
   "cell_type": "code",
   "execution_count": 38,
   "metadata": {
    "id": "gluLIpE7_Zcv"
   },
   "outputs": [],
   "source": [
    "# en una línea: agrupa la tabla shel_general por la columna 'genre', \n",
    "# cuenta los valores 'genre' en el agrupamiento con count(), \n",
    "# ordena el Series resultante en orden descendente y guárdalo en shel_genres\n",
    "shel_genres = shel_general.groupby('genre')['genre'].count().sort_values(ascending=False)"
   ]
  },
  {
   "cell_type": "code",
   "execution_count": 39,
   "metadata": {
    "id": "uaGJHjVU_Zcv",
    "scrolled": true
   },
   "outputs": [
    {
     "name": "stdout",
     "output_type": "stream",
     "text": [
      "genre\n",
      "pop            2597\n",
      "dance          2054\n",
      "rock           2004\n",
      "electronic     1842\n",
      "hiphop         1020\n",
      "alternative     700\n",
      "classical       684\n",
      "rusrap          604\n",
      "ruspop          565\n",
      "world           553\n",
      "Name: genre, dtype: int64\n"
     ]
    }
   ],
   "source": [
    "# imprimiendo las 10 primeras filas de shel_genres\n",
    "print(shel_genres.head(10))"
   ]
  },
  {
   "cell_type": "markdown",
   "metadata": {
    "id": "RY51YJYu_Zcv"
   },
   "source": [
    "**Conclusión**"
   ]
  },
  {
   "cell_type": "markdown",
   "metadata": {
    "id": "nVhnJEm__Zcv"
   },
   "source": [
    "La hipótesis ha sido parcialmente demostrada:\n",
    "* La música pop es el género más popular en Springfield, tal como se esperaba.\n",
    "* Sin embargo, la música pop ha resultado ser igual de popular en Springfield que en Shelbyville y el rap no estaba entre los 5 más populares en ninguna de las ciudades.\n"
   ]
  },
  {
   "cell_type": "markdown",
   "metadata": {
    "id": "ykKQ0N65_Zcv"
   },
   "source": [
    "# Conclusiones <a id='end'></a>"
   ]
  },
  {
   "cell_type": "markdown",
   "metadata": {
    "id": "tjUwbHb3_Zcv"
   },
   "source": [
    "Hemos probado las siguientes tres hipótesis:\n",
    "\n",
    "1. La actividad de los usuarios difiere dependiendo del día de la semana y de las distintas ciudades. \n",
    "2. Los lunes por la mañana los residentes de Springfield y Shelbyville escuchan géneros distintos. Lo mismo ocurre con los viernes por la noche.\n",
    "3. Los oyentes de Springfield y Shelbyville tienen distintas preferencias. En ambas ciudades, Springfield y Shelbyville, se prefiere el pop.\n",
    "\n",
    "Tras analizar los datos, concluimos:\n",
    "\n",
    "1. La actividad del usuario en Springfield y Shelbyville depende del día de la semana aunque las ciudades varían de diferentes formas. \n",
    "\n",
    "La primera hipótesis ha sido aceptada completamente.\n",
    "\n",
    "2. Las preferencias musicales no varían significativamente en el transcurso de la semana en Springfield y Shelbyville. Podemos observar pequeñas diferencias en el orden los lunes, pero:\n",
    "* En Springfield y Shelbyville la gente lo que más escucha es la música pop.\n",
    "\n",
    "Así que no podemos aceptar esta hipótesis. También debemos tener en cuenta que el resultado podría haber sido diferente si no fuera por los valores ausentes.\n",
    "\n",
    "3. Resulta que las preferencias musicales de los usuarios de Springfield y Shelbyville son bastante parecidas.\n",
    "\n",
    "La tercera hipótesis es rechazada. Si hay alguna diferencia en las preferencias no se puede observar en los datos.\n",
    "\n"
   ]
  }
 ],
 "metadata": {
  "colab": {
   "collapsed_sections": [
    "E0vqbgi9ay0H",
    "VUC88oWjTJw2",
    "atZAxtq4_Zcu"
   ],
   "name": "EmptyFinalProject.ipynb\"",
   "provenance": []
  },
  "kernelspec": {
   "display_name": "Python 3 (ipykernel)",
   "language": "python",
   "name": "python3"
  },
  "language_info": {
   "codemirror_mode": {
    "name": "ipython",
    "version": 3
   },
   "file_extension": ".py",
   "mimetype": "text/x-python",
   "name": "python",
   "nbconvert_exporter": "python",
   "pygments_lexer": "ipython3",
   "version": "3.9.5"
  },
  "toc": {
   "base_numbering": 1,
   "nav_menu": {},
   "number_sections": true,
   "sideBar": true,
   "skip_h1_title": true,
   "title_cell": "Table of Contents",
   "title_sidebar": "Contents",
   "toc_cell": false,
   "toc_position": {},
   "toc_section_display": true,
   "toc_window_display": true
  }
 },
 "nbformat": 4,
 "nbformat_minor": 4
}
